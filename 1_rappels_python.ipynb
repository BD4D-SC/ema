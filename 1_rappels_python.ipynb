{
 "cells": [
  {
   "cell_type": "markdown",
   "metadata": {
    "nbpresent": {
     "id": "2747e795-0053-448c-925f-d22db3fd542b"
    }
   },
   "source": [
    "# Utilisation des notebooks et rappels des bases de Python\n",
    "- Aide : \n",
    "    * en python shell (REPL): `help()` ou  `help(`<command>`)` et `q` pour quitter \n",
    "    * **`?`** ou <command | objet | fonction>**`?`** ou  <command | objet | fonction>**`??`** en ipython (donc aussi dans les notebooks Jupyter)\n",
    "    * aide contextuelle : **`Shift-Tab`** dans les notebooks\n",
    "    * documentation officielle : https://docs.python.org/3.7/index.html\n",
    "    * moteur de recherche qui renvoie très souvent vers l'excellent outil d'aide collaborative [Stack Overflow](https://stackoverflow.com/)\n",
    "\n",
    "\n",
    "- Expérimentez à partir de ce notebook en ajoutant des cellules\n",
    "- ajoutez vos propres notes (cellules en Markdown)"
   ]
  },
  {
   "cell_type": "markdown",
   "metadata": {
    "nbpresent": {
     "id": "8a7a719f-4fe7-4db8-a5c5-be33d78deee7"
    }
   },
   "source": [
    "## 0. Utilisation du notebook Jupyter\n",
    "Le B.A.BA :  \n",
    "- premier tour et aide : menu _Help > User Interface Tour_, etc.,\n",
    "- tous les raccourcis clavier : `Esc-h`\n",
    "- cellules en mode **code** (à exécuter) ou **Markdown** (ajouter des notes, voir ressources web pour Markdown, ex: https://www.markdownguide.org/basic-syntax/, https://github.com/adam-p/markdown-here/wiki/Markdown-Cheatsheet)\n",
    "- exécution d'une cellule : `Shift-Enter`\n",
    "- autocomplétion : `Tab`\n",
    "- aide contextuelle : `Shift-Tab`\n",
    "\n",
    "Les notebooks sont très pratiques pour explorer des données, tester une idée, et même développer une application si l'on s'y prend bien car ça peut aussi rapidement devenir un bazar.\n",
    "\n",
    "Précautions et bonnes pratiques :\n",
    "- tout ce que vous exécutez modifie l'état de votre session : définition de variables, fonctions, etc.\n",
    "- attention à l'ordre d'exécution des cellules (redifinition intempestive de variables, fonctions, etc.)\n",
    "- il est bon de régulièrement redémarrer le noyau (menu _Kernel > Restart_) et exécuter toutes les cellules dans l'ordre pour vérifier que tout fonctionne bien (menu _Cell > Run All_ ou _Run All Above_)\n",
    "- Au fur et à mesure du développement et de la maturité de votre projet : \n",
    "  1. si vous écrivez plusieurs fois le même code, définissez plutôt une fonction dans une cellule (documentez-la tout de suite !)\n",
    "  2. si vous utilisez une fonction dans plusieurs notebooks mettez-la dans un module que vous importez dans les notebooks (voir plus loin)\n",
    "  3. utilisez un outil de versionage de votre travail (`git`) et une plateforme pour le déposer (ex.: Github, GitLab, BitBucket)\n",
    "  4. ajouter des tests unitaires pour tester vos modules\n",
    "- apprenez à vous passer des notebooks lorsqu'ils ne sont plus appropriés à ce que vous souhaitez faire ;). "
   ]
  },
  {
   "cell_type": "markdown",
   "metadata": {
    "nbpresent": {
     "id": "e96e839d-3071-406f-9037-af418c09f30e"
    }
   },
   "source": [
    "## 1. Les bases de Python (si nécessaire)\n",
    "Il y a de très nombreuses références libres d'accès pour apprendre Python. Quelques références en français :  \n",
    "- Introduction au langage de programmation Python 3 : cours en français avec pleins d’exemples et d’exercices intéressants et même des QCM évalués : http://fsincere.free.fr/isn/python/cours_python.php\n",
    "- Python pour les économistes : cours d’introduction à Python 3, en français et avec des exercices : http://egallic.fr/Enseignement/Python/propos-liminaires.html\n",
    "- Une Introduction à Python 3 : cours en français avec beaucoup d’exemples et des explications claires mais pas d’exercices : https://perso.limsi.fr/pointal/python:courspython3  \n",
    "- Les bases et présentation de nombreux modules standard ou non, en français, présentation un peu désuette mais riche en informations : http://www.python-simple.com/    \n",
    "- de bons tutoriels en anglais sur de nombreux sujets Python : https://realpython.com/  \n",
    "\n",
    "Vous trouverez de nombreuses autres références en français ici : https://wiki.python.org/moin/FrenchLanguag et en anglais ici : https://wiki.python.org/moin/BeginnersGuide/Programmers"
   ]
  },
  {
   "cell_type": "markdown",
   "metadata": {
    "nbpresent": {
     "id": "9f7212e0-53c8-4c0f-a080-0a163481121d"
    }
   },
   "source": [
    "### Types, variables, opérateurs "
   ]
  },
  {
   "cell_type": "code",
   "execution_count": 3,
   "metadata": {
    "nbpresent": {
     "id": "07c8af89-138a-47b9-a131-b4086e585ec4"
    }
   },
   "outputs": [],
   "source": [
    "# assignements\n",
    "name = 'Claude'         # str       String   alt: \"Freddie\", '''Freddie''', \"\"\"Freddie\"\"\" séquence de caractères Unicodes\n",
    "age = 19                # int       Integer\n",
    "is_vaccinated = True    # bool      Boolean  deux valeurs possible True et False\n",
    "height = 1.75           # float     Floating point numbers    \n",
    "gender = None           # NoneType  Objet vide ou null"
   ]
  },
  {
   "cell_type": "code",
   "execution_count": 8,
   "metadata": {
    "nbpresent": {
     "id": "3df85915-da0a-4902-9491-5beeb38c2147"
    }
   },
   "outputs": [
    {
     "data": {
      "text/plain": [
       "int"
      ]
     },
     "execution_count": 8,
     "metadata": {},
     "output_type": "execute_result"
    }
   ],
   "source": [
    "type(age)"
   ]
  },
  {
   "cell_type": "code",
   "execution_count": 42,
   "metadata": {
    "nbpresent": {
     "id": "d045cce2-b5da-40a2-ab5b-ce47bac72d96"
    }
   },
   "outputs": [],
   "source": [
    "# assignement multiple\n",
    "a, b = 2, 5"
   ]
  },
  {
   "cell_type": "code",
   "execution_count": 43,
   "metadata": {
    "nbpresent": {
     "id": "fd0ec976-ab47-46b1-b2cd-472288bfea30"
    }
   },
   "outputs": [
    {
     "name": "stdout",
     "output_type": "stream",
     "text": [
      "a + b -> 7\n",
      "a - b -> -3\n",
      "a * b -> 10\n",
      "a / b -> 2.5\n",
      "a // b -> 2\n",
      "a % b -> 1\n",
      "a ** b -> 32\n",
      "a < b -> True\n",
      "a >= b -> False\n",
      "a == b -> False\n",
      "a != b -> True\n"
     ]
    }
   ],
   "source": [
    "# operateurs priorités PEMDAS)\n",
    "print(\"a + b ->\", a + b)\n",
    "print(\"a - b ->\", a - b)\n",
    "print(\"a * b ->\", a * b)\n",
    "print(\"a / b ->\", b / a)     # division \n",
    "print(\"a // b ->\", b // a)   # division entière\n",
    "print(\"a % b ->\", b % a)     # reste de la division entière (Modulo)\n",
    "print(\"a ** b ->\", a ** b)   # puissance\n",
    "print(\"a < b ->\", a < b)\n",
    "print(\"a >= b ->\", a >= b)\n",
    "print(\"a == b ->\", a == b)\n",
    "print(\"a != b ->\", a != b)"
   ]
  },
  {
   "cell_type": "code",
   "execution_count": 44,
   "metadata": {
    "nbpresent": {
     "id": "8ba01c9a-4d1a-4029-be18-cc443f27c1c9"
    }
   },
   "outputs": [
    {
     "name": "stdout",
     "output_type": "stream",
     "text": [
      "vrai and faux -> False\n",
      "vrai or faux -> True\n",
      "not vrai -> False\n"
     ]
    }
   ],
   "source": [
    "# operateur booléens\n",
    "vrai, faux = True, False\n",
    "\n",
    "print('vrai and faux ->', vrai and faux)\n",
    "print('vrai or faux ->', vrai or faux)\n",
    "print('not vrai ->', not vrai)"
   ]
  },
  {
   "cell_type": "markdown",
   "metadata": {
    "nbpresent": {
     "id": "1553d149-59fc-4e1c-8194-12c173d7d08d"
    }
   },
   "source": [
    "### Structures de données"
   ]
  },
  {
   "cell_type": "markdown",
   "metadata": {
    "nbpresent": {
     "id": "f4a89665-9557-46d3-a9e4-7837764942b9"
    }
   },
   "source": [
    "#### Listes (`list`)"
   ]
  },
  {
   "cell_type": "code",
   "execution_count": 13,
   "metadata": {
    "nbpresent": {
     "id": "a6ea9417-e357-4754-b7fd-d92658b44c0d"
    }
   },
   "outputs": [
    {
     "data": {
      "text/plain": [
       "['machin', 3, 4, True, ['truc', 'bidule']]"
      ]
     },
     "execution_count": 13,
     "metadata": {},
     "output_type": "execute_result"
    }
   ],
   "source": [
    "bazar = ['machin', 3, 4, True, ['truc', 'bidule']]\n",
    "bazar"
   ]
  },
  {
   "cell_type": "code",
   "execution_count": 14,
   "metadata": {
    "nbpresent": {
     "id": "22624445-f34c-4686-b9ac-ff4e45adb225"
    }
   },
   "outputs": [
    {
     "data": {
      "text/plain": [
       "'machin'"
      ]
     },
     "execution_count": 14,
     "metadata": {},
     "output_type": "execute_result"
    }
   ],
   "source": [
    "# 0-indexé\n",
    "bazar[0]"
   ]
  },
  {
   "cell_type": "code",
   "execution_count": 17,
   "metadata": {
    "nbpresent": {
     "id": "9410930c-3675-414a-81a9-d63f9bb677cd"
    }
   },
   "outputs": [
    {
     "data": {
      "text/plain": [
       "['truc', 'bidule']"
      ]
     },
     "execution_count": 17,
     "metadata": {},
     "output_type": "execute_result"
    }
   ],
   "source": [
    "# indexation par la fin\n",
    "bazar[-1]"
   ]
  },
  {
   "cell_type": "code",
   "execution_count": 18,
   "metadata": {
    "nbpresent": {
     "id": "ea0440ae-45d9-4ea4-95f5-a6cde659dae5"
    }
   },
   "outputs": [
    {
     "name": "stdout",
     "output_type": "stream",
     "text": [
      "[4, True, ['truc', 'bidule']]\n",
      "[4, True, ['truc', 'bidule']]\n",
      "['machin', 3, 4]\n"
     ]
    }
   ],
   "source": [
    "# portions (slices)\n",
    "print(bazar[2:5])\n",
    "print(bazar[2:])\n",
    "print(bazar[:-2])"
   ]
  },
  {
   "cell_type": "code",
   "execution_count": 38,
   "metadata": {
    "nbpresent": {
     "id": "3491e573-a49f-40b2-8ca2-6a56d656bad0"
    }
   },
   "outputs": [
    {
     "data": {
      "text/plain": [
       "['machin', 3, 3.14, True, ['truc', 'bidule']]"
      ]
     },
     "execution_count": 38,
     "metadata": {},
     "output_type": "execute_result"
    }
   ],
   "source": [
    "# mutable\n",
    "bazar[2] = 3.14\n",
    "bazar"
   ]
  },
  {
   "cell_type": "code",
   "execution_count": 19,
   "metadata": {
    "nbpresent": {
     "id": "0a1d0c66-8ef8-4783-a785-80614dc29d16"
    }
   },
   "outputs": [
    {
     "data": {
      "text/plain": [
       "5"
      ]
     },
     "execution_count": 19,
     "metadata": {},
     "output_type": "execute_result"
    }
   ],
   "source": [
    "# nombre d'éléments\n",
    "len(bazar)"
   ]
  },
  {
   "cell_type": "code",
   "execution_count": 51,
   "metadata": {
    "nbpresent": {
     "id": "7be89d84-adad-4932-b9e4-ae6e2a00c7b5"
    }
   },
   "outputs": [
    {
     "name": "stdout",
     "output_type": "stream",
     "text": [
      "['machin', 3, 3.14, True, ['truc', 'bidule']]\n"
     ]
    }
   ],
   "source": [
    "# attention :\n",
    "bezer = bazar\n",
    "print(bezer)"
   ]
  },
  {
   "cell_type": "code",
   "execution_count": 53,
   "metadata": {
    "nbpresent": {
     "id": "2c1bad6b-8ef5-4a2b-97ba-f2ea7d588f26"
    }
   },
   "outputs": [
    {
     "data": {
      "text/plain": [
       "[\"j'ai changé\", 3, 3.14, True, ['truc', 'bidule']]"
      ]
     },
     "execution_count": 53,
     "metadata": {},
     "output_type": "execute_result"
    }
   ],
   "source": [
    "bazar[0] = \"j'ai changé\"\n",
    "bezer"
   ]
  },
  {
   "cell_type": "code",
   "execution_count": 22,
   "metadata": {
    "nbpresent": {
     "id": "a93cc1ac-710b-4d44-92a8-fe0c091d0f40"
    }
   },
   "outputs": [],
   "source": [
    "# pour copier une liste\n",
    "bezer = list(bazar) \n",
    "# ou\n",
    "bezer = bazar[:]"
   ]
  },
  {
   "cell_type": "markdown",
   "metadata": {
    "nbpresent": {
     "id": "c7775a9b-4736-4b17-93e3-0451c4435216"
    }
   },
   "source": [
    "Il existe de nombreuses méthodes sur les listes, Voir https://docs.python.org/3.6/tutorial/datastructures.html ainsi que de opérateurs : "
   ]
  },
  {
   "cell_type": "code",
   "execution_count": 65,
   "metadata": {
    "nbpresent": {
     "id": "18a2926d-a702-4fff-b00d-2e8a1a27dd69"
    }
   },
   "outputs": [
    {
     "data": {
      "text/plain": [
       "[1, 2, 3, 4, 5]"
      ]
     },
     "execution_count": 65,
     "metadata": {},
     "output_type": "execute_result"
    }
   ],
   "source": [
    "# concaténation\n",
    "liste1 = [1, 2]\n",
    "liste2 = [3, 4, 5]\n",
    "liste1 + liste2"
   ]
  },
  {
   "cell_type": "code",
   "execution_count": 66,
   "metadata": {
    "nbpresent": {
     "id": "15742304-8033-46e6-9fdd-61c4961e508c"
    }
   },
   "outputs": [
    {
     "data": {
      "text/plain": [
       "[3, 4, 5, 6]"
      ]
     },
     "execution_count": 66,
     "metadata": {},
     "output_type": "execute_result"
    }
   ],
   "source": [
    "liste2.append(6)\n",
    "liste2"
   ]
  },
  {
   "cell_type": "code",
   "execution_count": 67,
   "metadata": {
    "nbpresent": {
     "id": "71af97d7-9a76-475e-a8cb-e91cfa08cea2"
    }
   },
   "outputs": [
    {
     "data": {
      "text/plain": [
       "6"
      ]
     },
     "execution_count": 67,
     "metadata": {},
     "output_type": "execute_result"
    }
   ],
   "source": [
    "liste2.pop()"
   ]
  },
  {
   "cell_type": "code",
   "execution_count": 68,
   "metadata": {
    "nbpresent": {
     "id": "f9eee593-30b5-4577-b3ef-f97f898594fe"
    }
   },
   "outputs": [
    {
     "data": {
      "text/plain": [
       "[3, 4, 5]"
      ]
     },
     "execution_count": 68,
     "metadata": {},
     "output_type": "execute_result"
    }
   ],
   "source": [
    "liste2"
   ]
  },
  {
   "cell_type": "markdown",
   "metadata": {
    "nbpresent": {
     "id": "a3dddb4d-c987-45f2-a4b0-a633ceb6fb9b"
    }
   },
   "source": [
    "#### N-uplets (`tuple`)\n",
    "Difference avec List: hashable et immutable => peut-être utilisé comme clé de dictionnaire contrairement à List "
   ]
  },
  {
   "cell_type": "code",
   "execution_count": 23,
   "metadata": {
    "nbpresent": {
     "id": "b0686b77-dad0-45ab-aaa3-56306f6662a4"
    }
   },
   "outputs": [
    {
     "name": "stdout",
     "output_type": "stream",
     "text": [
      "(1.2, 2, 'pi')\n"
     ]
    }
   ],
   "source": [
    "params = (1.2, 2, 'pi')\n",
    "# ou\n",
    "param = 1.2, 2, 'pi'\n",
    "\n",
    "print(params)"
   ]
  },
  {
   "cell_type": "code",
   "execution_count": 24,
   "metadata": {
    "nbpresent": {
     "id": "14156fe2-af28-4b28-bfed-92e879de3d2a"
    }
   },
   "outputs": [
    {
     "ename": "TypeError",
     "evalue": "'tuple' object does not support item assignment",
     "output_type": "error",
     "traceback": [
      "\u001b[0;31m---------------------------------------------------------------------------\u001b[0m",
      "\u001b[0;31mTypeError\u001b[0m                                 Traceback (most recent call last)",
      "\u001b[0;32m<ipython-input-24-228ac129dc99>\u001b[0m in \u001b[0;36m<module>\u001b[0;34m\u001b[0m\n\u001b[1;32m      1\u001b[0m \u001b[0;31m# immutable\u001b[0m\u001b[0;34m\u001b[0m\u001b[0;34m\u001b[0m\u001b[0;34m\u001b[0m\u001b[0m\n\u001b[0;32m----> 2\u001b[0;31m \u001b[0mparams\u001b[0m\u001b[0;34m[\u001b[0m\u001b[0;36m0\u001b[0m\u001b[0;34m]\u001b[0m \u001b[0;34m=\u001b[0m \u001b[0;36m3.1415\u001b[0m\u001b[0;34m\u001b[0m\u001b[0;34m\u001b[0m\u001b[0m\n\u001b[0m",
      "\u001b[0;31mTypeError\u001b[0m: 'tuple' object does not support item assignment"
     ]
    }
   ],
   "source": [
    "# immutable\n",
    "params[0] = 3.1415"
   ]
  },
  {
   "cell_type": "markdown",
   "metadata": {
    "nbpresent": {
     "id": "997bc2b7-4a10-4267-ba48-78f8e800a83e"
    }
   },
   "source": [
    "#### Ensembles (`set`)"
   ]
  },
  {
   "cell_type": "code",
   "execution_count": 25,
   "metadata": {
    "nbpresent": {
     "id": "d5c03e33-bb70-4cf4-a30f-b775b01922fb"
    }
   },
   "outputs": [
    {
     "data": {
      "text/plain": [
       "{1, 2, 3}"
      ]
     },
     "execution_count": 25,
     "metadata": {},
     "output_type": "execute_result"
    }
   ],
   "source": [
    "uniques = {1, 2, 2, 3}\n",
    "uniques"
   ]
  },
  {
   "cell_type": "code",
   "execution_count": 29,
   "metadata": {
    "nbpresent": {
     "id": "7e86eb61-bb34-4b99-b76e-cd1064c9c8a7"
    }
   },
   "outputs": [],
   "source": [
    "ensemble_vide = set()   # et non {} qui est un dictionnaire vide, voir ci-dessous"
   ]
  },
  {
   "cell_type": "markdown",
   "metadata": {
    "nbpresent": {
     "id": "1d967a5c-2b37-449a-bad8-1ccd66219d27"
    }
   },
   "source": [
    "#### Dictionnaires (`dict`)"
   ]
  },
  {
   "cell_type": "code",
   "execution_count": 35,
   "metadata": {
    "nbpresent": {
     "id": "891d3f64-828b-41af-80c4-4ebbd7bf4d91"
    }
   },
   "outputs": [],
   "source": [
    "patient = {'nom': 'Claude', \n",
    "           'age': 19,\n",
    "           'vacciné': True,\n",
    "           'vaccins': ['tétanos', 'rubéole'],\n",
    "           'taille': 1.75,\n",
    "           'genre': None}"
   ]
  },
  {
   "cell_type": "code",
   "execution_count": 36,
   "metadata": {
    "nbpresent": {
     "id": "7be35748-1f49-4668-996e-2a40c393edb6"
    }
   },
   "outputs": [
    {
     "data": {
      "text/plain": [
       "1.75"
      ]
     },
     "execution_count": 36,
     "metadata": {},
     "output_type": "execute_result"
    }
   ],
   "source": [
    "patient['taille']"
   ]
  },
  {
   "cell_type": "markdown",
   "metadata": {
    "nbpresent": {
     "id": "2e6772bc-be56-443c-9fff-950b5c6f1108"
    }
   },
   "source": [
    "### Instructions de condition et de contrôle"
   ]
  },
  {
   "cell_type": "markdown",
   "metadata": {
    "nbpresent": {
     "id": "8f460983-7d33-4fad-8fcb-2036f40f428c"
    }
   },
   "source": [
    "#### `if else`"
   ]
  },
  {
   "cell_type": "code",
   "execution_count": 57,
   "metadata": {
    "nbpresent": {
     "id": "fd04be5a-c125-454b-b8e8-58cef90a5d82"
    }
   },
   "outputs": [
    {
     "name": "stdout",
     "output_type": "stream",
     "text": [
      "trouvé\n"
     ]
    }
   ],
   "source": [
    "lettre, phrase = 'j', 'le joli mai'\n",
    "\n",
    "if lettre in phrase:\n",
    "    print('trouvé')\n",
    "else:\n",
    "    print('rien')"
   ]
  },
  {
   "cell_type": "markdown",
   "metadata": {
    "nbpresent": {
     "id": "db1b3788-73f8-4285-8f19-c8db0f7d2a5f"
    }
   },
   "source": [
    "#### boucle `for`"
   ]
  },
  {
   "cell_type": "code",
   "execution_count": 60,
   "metadata": {
    "nbpresent": {
     "id": "864626e9-9679-4149-91ea-a06de68654c5"
    }
   },
   "outputs": [
    {
     "name": "stdout",
     "output_type": "stream",
     "text": [
      "nom : Claude\n",
      "age : 19\n",
      "vacciné : True\n",
      "vaccins : ['tétanos', 'rubéole']\n",
      "taille : 1.75\n",
      "genre : None\n"
     ]
    }
   ],
   "source": [
    "for key in patient.keys():\n",
    "    print(key, ':', patient[key])"
   ]
  },
  {
   "cell_type": "code",
   "execution_count": 63,
   "metadata": {
    "nbpresent": {
     "id": "f4fe3bcd-aa08-468d-8132-d8df350db2e7"
    }
   },
   "outputs": [
    {
     "name": "stdout",
     "output_type": "stream",
     "text": [
      "0 nom : Claude\n",
      "1 age : 19\n",
      "2 vacciné : True\n",
      "3 vaccins : ['tétanos', 'rubéole']\n",
      "4 taille : 1.75\n",
      "5 genre : None\n"
     ]
    }
   ],
   "source": [
    "# utilisation de la fonction enumerate() sur les iterables\n",
    "for index, key in enumerate(patient.keys()):\n",
    "    print(index, key, ':', patient[key])"
   ]
  },
  {
   "cell_type": "markdown",
   "metadata": {
    "nbpresent": {
     "id": "406bd80b-1e73-4f7e-9155-21d68e959f41"
    }
   },
   "source": [
    "#### boucle `while`"
   ]
  },
  {
   "cell_type": "code",
   "execution_count": 66,
   "metadata": {
    "nbpresent": {
     "id": "d1a3c8de-cc75-4dce-97b7-d89b20091587"
    }
   },
   "outputs": [
    {
     "name": "stdout",
     "output_type": "stream",
     "text": [
      "to be or not\n",
      "to be or no\n",
      "to be or n\n",
      "to be or \n",
      "to be or\n",
      "to be o\n",
      "to be \n",
      "to be\n",
      "to b\n",
      "to \n",
      "to\n",
      "t\n"
     ]
    }
   ],
   "source": [
    "sentence = 'to be or not'       # init\n",
    "while len(sentence) > 0:        # stop condition\n",
    "    print(sentence)\n",
    "    sentence = sentence[:-1]    # mutate the object on which the condition is evaluated"
   ]
  },
  {
   "cell_type": "markdown",
   "metadata": {
    "nbpresent": {
     "id": "2aa36bc0-8b0c-4c40-a892-e532b0a9eb26"
    }
   },
   "source": [
    "### Fonctions"
   ]
  },
  {
   "cell_type": "code",
   "execution_count": 101,
   "metadata": {
    "nbpresent": {
     "id": "556577d9-c6cf-45f0-8a8b-4794fb47e565"
    }
   },
   "outputs": [
    {
     "name": "stdout",
     "output_type": "stream",
     "text": [
      "L'aire du rectangle est 12.3 cm2\n"
     ]
    }
   ],
   "source": [
    "def area_rectangle(longueur, largeur):        # <- mot clé `def`, parenthèses, paramètres, ':' et indentation\n",
    "    \"\"\"Return the area of a rectangle\"\"\"      # <- description\n",
    "    area = longueur * largeur                 # <- bloc d'instructions\n",
    "    return area                               # <- mot clé `return`\n",
    "\n",
    "l, L = 3, 4.1\n",
    "\n",
    "# utilisation de la fontion\n",
    "print(f\"L'aire du rectangle est {aire_rectangle(l, L) :.1f} cm2\")"
   ]
  },
  {
   "cell_type": "markdown",
   "metadata": {
    "nbpresent": {
     "id": "104e2486-1390-4665-92d3-24ede02b5034"
    }
   },
   "source": [
    "Voir aussi les paramètres positionnels, par mot clés et par défaut"
   ]
  },
  {
   "cell_type": "markdown",
   "metadata": {
    "nbpresent": {
     "id": "f8f132ae-f1d9-4edb-a225-fc1498c60c0b"
    }
   },
   "source": [
    "#### Fonctions anonymes (fonctions lambda)\n",
    "Une seule instruction"
   ]
  },
  {
   "cell_type": "code",
   "execution_count": 103,
   "metadata": {
    "nbpresent": {
     "id": "767c011f-cf93-423a-a156-596e6b41e4c9"
    }
   },
   "outputs": [],
   "source": [
    "area = lambda long, larg: long * larg"
   ]
  },
  {
   "cell_type": "code",
   "execution_count": 106,
   "metadata": {
    "nbpresent": {
     "id": "655e5361-ef45-4f7f-967a-e2f925e2edbd"
    }
   },
   "outputs": [
    {
     "data": {
      "text/plain": [
       "12.299999999999999"
      ]
     },
     "execution_count": 106,
     "metadata": {},
     "output_type": "execute_result"
    }
   ],
   "source": [
    "area(l, L)"
   ]
  },
  {
   "cell_type": "markdown",
   "metadata": {
    "nbpresent": {
     "id": "dd8f9910-0b14-448c-b506-3c54dc5c8a59"
    }
   },
   "source": [
    "### Importer des modules\n",
    "Les nombreux modules de la librairie standard: https://docs.python.org/3/library/"
   ]
  },
  {
   "cell_type": "code",
   "execution_count": 1,
   "metadata": {
    "nbpresent": {
     "id": "25a70a04-20ad-42b7-9af2-d8ddbcb8d479"
    }
   },
   "outputs": [
    {
     "ename": "NameError",
     "evalue": "name 'pi' is not defined",
     "output_type": "error",
     "traceback": [
      "\u001b[0;31m---------------------------------------------------------------------------\u001b[0m",
      "\u001b[0;31mNameError\u001b[0m                                 Traceback (most recent call last)",
      "\u001b[0;32m<ipython-input-1-9e2d2bd32686>\u001b[0m in \u001b[0;36m<module>\u001b[0;34m\u001b[0m\n\u001b[0;32m----> 1\u001b[0;31m \u001b[0mprint\u001b[0m\u001b[0;34m(\u001b[0m\u001b[0mpi\u001b[0m\u001b[0;34m)\u001b[0m\u001b[0;34m\u001b[0m\u001b[0;34m\u001b[0m\u001b[0m\n\u001b[0m",
      "\u001b[0;31mNameError\u001b[0m: name 'pi' is not defined"
     ]
    }
   ],
   "source": [
    "print(pi)"
   ]
  },
  {
   "cell_type": "code",
   "execution_count": 3,
   "metadata": {
    "nbpresent": {
     "id": "a616f091-48b7-4e55-aa71-830fc8ecd004"
    }
   },
   "outputs": [],
   "source": [
    "import math"
   ]
  },
  {
   "cell_type": "code",
   "execution_count": 4,
   "metadata": {
    "nbpresent": {
     "id": "42fcc775-6976-48ba-8e89-23a810cd2bb5"
    }
   },
   "outputs": [
    {
     "name": "stdout",
     "output_type": "stream",
     "text": [
      "3.141592653589793\n"
     ]
    }
   ],
   "source": [
    "print(math.pi)"
   ]
  },
  {
   "cell_type": "code",
   "execution_count": 6,
   "metadata": {
    "nbpresent": {
     "id": "a98447c8-1305-45f0-8eeb-076b2982532a"
    }
   },
   "outputs": [
    {
     "data": {
      "text/plain": [
       "['__name__',\n",
       " '__doc__',\n",
       " '__package__',\n",
       " '__loader__',\n",
       " '__spec__',\n",
       " 'acos',\n",
       " 'acosh',\n",
       " 'asin',\n",
       " 'asinh',\n",
       " 'atan',\n",
       " 'atan2',\n",
       " 'atanh',\n",
       " 'ceil',\n",
       " 'copysign',\n",
       " 'cos',\n",
       " 'cosh',\n",
       " 'degrees',\n",
       " 'erf',\n",
       " 'erfc',\n",
       " 'exp',\n",
       " 'expm1',\n",
       " 'fabs',\n",
       " 'factorial',\n",
       " 'floor',\n",
       " 'fmod',\n",
       " 'frexp',\n",
       " 'fsum',\n",
       " 'gamma',\n",
       " 'gcd',\n",
       " 'hypot',\n",
       " 'isclose',\n",
       " 'isfinite',\n",
       " 'isinf',\n",
       " 'isnan',\n",
       " 'ldexp',\n",
       " 'lgamma',\n",
       " 'log',\n",
       " 'log1p',\n",
       " 'log10',\n",
       " 'log2',\n",
       " 'modf',\n",
       " 'pow',\n",
       " 'radians',\n",
       " 'remainder',\n",
       " 'sin',\n",
       " 'sinh',\n",
       " 'sqrt',\n",
       " 'tan',\n",
       " 'tanh',\n",
       " 'trunc',\n",
       " 'pi',\n",
       " 'e',\n",
       " 'tau',\n",
       " 'inf',\n",
       " 'nan',\n",
       " '__file__']"
      ]
     },
     "execution_count": 6,
     "metadata": {},
     "output_type": "execute_result"
    }
   ],
   "source": [
    "math.__dir__()"
   ]
  },
  {
   "cell_type": "code",
   "execution_count": 12,
   "metadata": {
    "nbpresent": {
     "id": "a51ff4f5-ee26-438f-a8ef-ecb29d475197"
    }
   },
   "outputs": [
    {
     "data": {
      "text/plain": [
       "\u001b[0;31mSignature:\u001b[0m \u001b[0mmath\u001b[0m\u001b[0;34m.\u001b[0m\u001b[0mceil\u001b[0m\u001b[0;34m(\u001b[0m\u001b[0mx\u001b[0m\u001b[0;34m,\u001b[0m \u001b[0;34m/\u001b[0m\u001b[0;34m)\u001b[0m\u001b[0;34m\u001b[0m\u001b[0;34m\u001b[0m\u001b[0m\n",
       "\u001b[0;31mDocstring:\u001b[0m\n",
       "Return the ceiling of x as an Integral.\n",
       "\n",
       "This is the smallest integer >= x.\n",
       "\u001b[0;31mType:\u001b[0m      builtin_function_or_method\n"
      ]
     },
     "metadata": {},
     "output_type": "display_data"
    }
   ],
   "source": [
    "math.ceil?"
   ]
  },
  {
   "cell_type": "markdown",
   "metadata": {},
   "source": [
    "### Formatage des sorties (\"string interpolation\")"
   ]
  },
  {
   "cell_type": "code",
   "execution_count": 12,
   "metadata": {},
   "outputs": [
    {
     "name": "stdout",
     "output_type": "stream",
     "text": [
      "Le taux d'alcool dans le sang de Mr. Chofar est 3.14 g/l.\n",
      "Le taux d'alcool dans le sang de Mr. Chofar est 3.14 g/l.\n",
      "Le taux d'alcool dans le sang de Mr. Chofar est 3.14 g/l.\n"
     ]
    }
   ],
   "source": [
    "nom = \"Mr. Chofar\"\n",
    "taux = 3.14159\n",
    "\n",
    "# vieux style classique\n",
    "print( \"Le taux d'alcool dans le sang de %s est %.2f g/l.\" % (nom, taux) )\n",
    "\n",
    "# méthode format (depuis python 2.6)\n",
    "print( \"Le taux d'alcool dans le sang de {} est {:.2f} g/l.\".format(nom, taux) )\n",
    "\n",
    "# f-string (depuis python 3.6)\n",
    "print( f\"Le taux d'alcool dans le sang de {nom} est {taux:.2f} g/l.\" )\n"
   ]
  },
  {
   "cell_type": "markdown",
   "metadata": {},
   "source": [
    "### Bon à connaître car souvent rencontrés :\n",
    "#### list comprehensions"
   ]
  },
  {
   "cell_type": "code",
   "execution_count": 8,
   "metadata": {},
   "outputs": [
    {
     "data": {
      "text/plain": [
       "[2, 1, 1, 3, 6, 3, 2, 4, 4, 1, 6, 5]"
      ]
     },
     "execution_count": 8,
     "metadata": {},
     "output_type": "execute_result"
    }
   ],
   "source": [
    "mots = \"Il y a des blancs que je suis seul à savoir faire\".split()\n",
    "longueurs = [len(mot) for mot in mots]\n",
    "longueurs"
   ]
  },
  {
   "cell_type": "markdown",
   "metadata": {},
   "source": [
    "#### iterators, generators"
   ]
  },
  {
   "cell_type": "code",
   "execution_count": 22,
   "metadata": {},
   "outputs": [
    {
     "data": {
      "text/plain": [
       "generator"
      ]
     },
     "execution_count": 22,
     "metadata": {},
     "output_type": "execute_result"
    }
   ],
   "source": [
    "carres = (x*2 for x in range(1000000))\n",
    "type(carres)"
   ]
  },
  {
   "cell_type": "code",
   "execution_count": 23,
   "metadata": {},
   "outputs": [
    {
     "name": "stdout",
     "output_type": "stream",
     "text": [
      "0\n",
      "64974\n",
      "129948\n",
      "194922\n",
      "259896\n",
      "324870\n",
      "389844\n",
      "454818\n",
      "519792\n",
      "584766\n",
      "649740\n",
      "714714\n",
      "779688\n",
      "844662\n",
      "909636\n",
      "974610\n",
      "1039584\n",
      "1104558\n",
      "1169532\n",
      "1234506\n",
      "1299480\n",
      "1364454\n",
      "1429428\n",
      "1494402\n",
      "1559376\n",
      "1624350\n",
      "1689324\n",
      "1754298\n",
      "1819272\n",
      "1884246\n",
      "1949220\n"
     ]
    }
   ],
   "source": [
    "for carre in carres:\n",
    "    if carre % 32487 == 0:\n",
    "        print(carre)"
   ]
  },
  {
   "cell_type": "markdown",
   "metadata": {},
   "source": [
    "#### unpacking sequences and dictionnary (syntaxe variadique)"
   ]
  },
  {
   "cell_type": "code",
   "execution_count": 28,
   "metadata": {},
   "outputs": [
    {
     "name": "stdout",
     "output_type": "stream",
     "text": [
      "(1, 2, 3, 4)\n",
      "1 2 3 4\n"
     ]
    }
   ],
   "source": [
    "# déballer une liste\n",
    "parameters = (1, 2, 3, 4)\n",
    "print(parameters)\n",
    "print(*parameters )  # equivaut à print(1, 2, 3, 4)"
   ]
  },
  {
   "cell_type": "code",
   "execution_count": 35,
   "metadata": {},
   "outputs": [
    {
     "name": "stdout",
     "output_type": "stream",
     "text": [
      "a = 1\n",
      "b = 2\n"
     ]
    }
   ],
   "source": [
    "# déballer un dictionnaire\n",
    "def demo(a, b):\n",
    "    print(f'a = {a}')\n",
    "    print(f'b = {b}')\n",
    "parametres = {'b': 2, 'a': 1}\n",
    "demo(**parametres)"
   ]
  },
  {
   "cell_type": "markdown",
   "metadata": {},
   "source": [
    "#### fonctions anonymes (lambda)"
   ]
  },
  {
   "cell_type": "code",
   "execution_count": 45,
   "metadata": {},
   "outputs": [
    {
     "data": {
      "text/plain": [
       "401"
      ]
     },
     "execution_count": 45,
     "metadata": {},
     "output_type": "execute_result"
    }
   ],
   "source": [
    "f = lambda x: x**2 + 1\n",
    "f(20)"
   ]
  },
  {
   "cell_type": "code",
   "execution_count": 38,
   "metadata": {},
   "outputs": [
    {
     "data": {
      "text/plain": [
       "[-1, 0, 3, 8, 15, 24, 35, 48, 63, 80]"
      ]
     },
     "execution_count": 38,
     "metadata": {},
     "output_type": "execute_result"
    }
   ],
   "source": [
    "def une_fonction(x):\n",
    "    return x**2 - 1\n",
    "\n",
    "list(map(une_fonction, range(10)))"
   ]
  },
  {
   "cell_type": "code",
   "execution_count": 42,
   "metadata": {},
   "outputs": [
    {
     "data": {
      "text/plain": [
       "[1, 2, 5, 10, 17, 26, 37, 50, 65, 82]"
      ]
     },
     "execution_count": 42,
     "metadata": {},
     "output_type": "execute_result"
    }
   ],
   "source": [
    "# plus concis \n",
    "list(map(lambda x: x**2 + 1, range(10)))"
   ]
  },
  {
   "cell_type": "markdown",
   "metadata": {},
   "source": [
    "#### classes"
   ]
  },
  {
   "cell_type": "code",
   "execution_count": 48,
   "metadata": {},
   "outputs": [],
   "source": [
    "class Chat:\n",
    "\n",
    "    # Class Attribute\n",
    "    espece = 'mammifère'\n",
    "\n",
    "    # Initializer / Constructor\n",
    "    def __init__(self, nom, age):\n",
    "        self.nom = nom\n",
    "        self.age = age"
   ]
  },
  {
   "cell_type": "code",
   "execution_count": 49,
   "metadata": {},
   "outputs": [],
   "source": [
    "un_chat = Chat('Muta', 5)"
   ]
  },
  {
   "cell_type": "code",
   "execution_count": 50,
   "metadata": {},
   "outputs": [
    {
     "name": "stdout",
     "output_type": "stream",
     "text": [
      "Muta 5 mammifère\n"
     ]
    }
   ],
   "source": [
    "print(un_chat.nom, un_chat.age, un_chat.espece)"
   ]
  },
  {
   "cell_type": "markdown",
   "metadata": {},
   "source": [
    "#### décorateurs\n",
    "Par définition, un décorateur est une fonction qui prend une autre fonction en argument et étend le comportement de cette dernière sans la modifier explicitement.  \n",
    "Voir par exemple : https://realpython.com/primer-on-python-decorators/\n",
    "\n",
    "Pas besoin de comprendre pour les utiliser dans les modules qui les implémentes..."
   ]
  },
  {
   "cell_type": "code",
   "execution_count": 52,
   "metadata": {},
   "outputs": [],
   "source": [
    "def my_decorator(func):\n",
    "    def wrapper():\n",
    "        print(\"Something is happening before the function is called.\")\n",
    "        func()\n",
    "        print(\"Something is happening after the function is called.\")\n",
    "    return wrapper\n",
    "\n",
    "@my_decorator  \n",
    "def say_whee():\n",
    "    print(\"Whee!\")"
   ]
  },
  {
   "cell_type": "code",
   "execution_count": 53,
   "metadata": {},
   "outputs": [
    {
     "name": "stdout",
     "output_type": "stream",
     "text": [
      "Something is happening before the function is called.\n",
      "Whee!\n",
      "Something is happening after the function is called.\n"
     ]
    }
   ],
   "source": [
    "say_whee()"
   ]
  }
 ],
 "metadata": {
  "anaconda-cloud": {},
  "kernelspec": {
   "display_name": "Python [conda env:py36]",
   "language": "python",
   "name": "conda-env-py36-py"
  },
  "language_info": {
   "codemirror_mode": {
    "name": "ipython",
    "version": 3
   },
   "file_extension": ".py",
   "mimetype": "text/x-python",
   "name": "python",
   "nbconvert_exporter": "python",
   "pygments_lexer": "ipython3",
   "version": "3.6.8"
  },
  "nbpresent": {
   "slides": {},
   "themes": {
    "default": "6c4dc577-5c21-480c-9c8e-3672baf8ba4c",
    "theme": {}
   }
  }
 },
 "nbformat": 4,
 "nbformat_minor": 2
}
